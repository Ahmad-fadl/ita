{
 "cells": [
  {
   "cell_type": "code",
   "execution_count": 1,
   "metadata": {},
   "outputs": [],
   "source": [
    "# curl -X GET -H \"Authorization: Bearer <BEARER TOKEN>\" \"https://api.twitter.com/2/tweets/20\"\n",
    "# bash command to hydrate an example tweet\n",
    "# get your bearer token (and the keys) here -> https://developer.twitter.com/en/portal/dashboard"
   ]
  },
  {
   "cell_type": "code",
   "execution_count": 2,
   "metadata": {},
   "outputs": [],
   "source": [
    "import json\n",
    "\n",
    "# Enter your keys/secrets as strings in the following fields\n",
    "credentials = {}\n",
    "credentials['CONSUMER_KEY'] = \"xxx\"  # key names not consistent ->  API KEY = CONSUMER_KEY\n",
    "credentials['CONSUMER_SECRET'] = \"xxx\" # API SECRET KEY = CONSUMER_SECRET\n",
    "credentials['ACCESS_TOKEN'] = \"xxx\"   # not needed for now?\n",
    "credentials['ACCESS_SECRET'] = \"xxx\" # not needed for now?\n",
    "credentials['BEARER_TOKEN'] = 'xxx' # seee celll above\n",
    "\n",
    "# Save the credentials object to file\n",
    "#with open(\"twitter_credentials.json\", \"w\") as file:\n",
    "#    json.dump(credentials, file)\n",
    "    "
   ]
  },
  {
   "cell_type": "code",
   "execution_count": 3,
   "metadata": {},
   "outputs": [],
   "source": [
    "#!pip install twython\n",
    "#!pip install geopy"
   ]
  },
  {
   "cell_type": "code",
   "execution_count": 4,
   "metadata": {},
   "outputs": [],
   "source": [
    "# Import the Twython class\n",
    "from twython import Twython\n",
    "import json\n",
    "\n",
    "# Load credentials from json file\n",
    "with open(\"twitter_credentials.json\", \"r\") as file:\n",
    "    creds = json.load(file)\n",
    "\n",
    "# Instantiate an object\n",
    "python_tweets = Twython(creds['CONSUMER_KEY'], creds['CONSUMER_SECRET'],credentials['ACCESS_TOKEN'],credentials['ACCESS_SECRET'],credentials['BEARER_TOKEN'])"
   ]
  },
  {
   "cell_type": "code",
   "execution_count": 5,
   "metadata": {},
   "outputs": [
    {
     "name": "stdout",
     "output_type": "stream",
     "text": [
      "'los angeles'\n"
     ]
    }
   ],
   "source": [
    "## show json for a specific ID\n",
    "from pprint import pprint\n",
    "tweet= python_tweets.show_status(id=\"1240727808080412673\")\n",
    "#pprint(tweet)\n",
    "\n",
    "# path to location. but path varies, so it may fail for other IDS\n",
    "# -> it fails for every tweet that is not this tweet (see evaluation in next ceel)\n",
    "# -> TODO better generalization / method\n",
    "pprint (tweet[\"extended_entities\"][\"media\"][0][\"additional_media_info\"][\"source_user\"]['location'])"
   ]
  },
  {
   "cell_type": "code",
   "execution_count": 9,
   "metadata": {},
   "outputs": [
    {
     "data": {
      "text/html": [
       "<div>\n",
       "<style scoped>\n",
       "    .dataframe tbody tr th:only-of-type {\n",
       "        vertical-align: middle;\n",
       "    }\n",
       "\n",
       "    .dataframe tbody tr th {\n",
       "        vertical-align: top;\n",
       "    }\n",
       "\n",
       "    .dataframe thead th {\n",
       "        text-align: right;\n",
       "    }\n",
       "</style>\n",
       "<table border=\"1\" class=\"dataframe\">\n",
       "  <thead>\n",
       "    <tr style=\"text-align: right;\">\n",
       "      <th></th>\n",
       "      <th>ID</th>\n",
       "    </tr>\n",
       "  </thead>\n",
       "  <tbody>\n",
       "    <tr>\n",
       "      <th>0</th>\n",
       "      <td>1245219745311404032</td>\n",
       "    </tr>\n",
       "    <tr>\n",
       "      <th>1</th>\n",
       "      <td>1245219922419929088</td>\n",
       "    </tr>\n",
       "    <tr>\n",
       "      <th>2</th>\n",
       "      <td>1245221568973848576</td>\n",
       "    </tr>\n",
       "    <tr>\n",
       "      <th>3</th>\n",
       "      <td>1245221760246648832</td>\n",
       "    </tr>\n",
       "    <tr>\n",
       "      <th>4</th>\n",
       "      <td>1245222299504119808</td>\n",
       "    </tr>\n",
       "  </tbody>\n",
       "</table>\n",
       "</div>"
      ],
      "text/plain": [
       "                    ID\n",
       "0  1245219745311404032\n",
       "1  1245219922419929088\n",
       "2  1245221568973848576\n",
       "3  1245221760246648832\n",
       "4  1245222299504119808"
      ]
     },
     "metadata": {},
     "output_type": "display_data"
    },
    {
     "name": "stderr",
     "output_type": "stream",
     "text": [
      "\r",
      "  0%|          | 0/607 [00:00<?, ?it/s]"
     ]
    },
    {
     "name": "stdout",
     "output_type": "stream",
     "text": [
      "delay:  0.7159981795557887\n"
     ]
    },
    {
     "name": "stderr",
     "output_type": "stream",
     "text": [
      "  1%|          | 7/607 [00:06<09:56,  1.01it/s]"
     ]
    },
    {
     "name": "stdout",
     "output_type": "stream",
     "text": [
      "Twitter API returned a 404 (Not Found), No status found with that ID.\n"
     ]
    },
    {
     "name": "stderr",
     "output_type": "stream",
     "text": [
      "  4%|▍         | 23/607 [00:20<08:32,  1.14it/s]"
     ]
    },
    {
     "name": "stdout",
     "output_type": "stream",
     "text": [
      "Twitter API returned a 404 (Not Found), No status found with that ID.\n"
     ]
    },
    {
     "name": "stderr",
     "output_type": "stream",
     "text": [
      "  7%|▋         | 45/607 [00:40<08:12,  1.14it/s]"
     ]
    },
    {
     "name": "stdout",
     "output_type": "stream",
     "text": [
      "Twitter API returned a 403 (Forbidden), User has been suspended.\n"
     ]
    },
    {
     "name": "stderr",
     "output_type": "stream",
     "text": [
      "  8%|▊         | 47/607 [00:42<08:05,  1.15it/s]"
     ]
    },
    {
     "name": "stdout",
     "output_type": "stream",
     "text": [
      "Twitter API returned a 404 (Not Found), No status found with that ID.\n"
     ]
    },
    {
     "name": "stderr",
     "output_type": "stream",
     "text": [
      "  8%|▊         | 50/607 [00:44<08:04,  1.15it/s]"
     ]
    },
    {
     "name": "stdout",
     "output_type": "stream",
     "text": [
      "delay:  0.7047374402031754\n"
     ]
    },
    {
     "name": "stderr",
     "output_type": "stream",
     "text": [
      " 15%|█▌        | 94/607 [01:23<07:33,  1.13it/s]"
     ]
    },
    {
     "name": "stdout",
     "output_type": "stream",
     "text": [
      "Twitter API returned a 404 (Not Found), No status found with that ID.\n"
     ]
    },
    {
     "name": "stderr",
     "output_type": "stream",
     "text": [
      " 16%|█▋        | 100/607 [01:29<07:27,  1.13it/s]"
     ]
    },
    {
     "name": "stdout",
     "output_type": "stream",
     "text": [
      "delay:  0.6924200029064703\n"
     ]
    },
    {
     "name": "stderr",
     "output_type": "stream",
     "text": [
      " 17%|█▋        | 105/607 [01:33<07:23,  1.13it/s]"
     ]
    },
    {
     "name": "stdout",
     "output_type": "stream",
     "text": [
      "Twitter API returned a 403 (Forbidden), User has been suspended.\n"
     ]
    },
    {
     "name": "stderr",
     "output_type": "stream",
     "text": [
      " 19%|█▉        | 114/607 [01:41<07:11,  1.14it/s]"
     ]
    },
    {
     "name": "stdout",
     "output_type": "stream",
     "text": [
      "Twitter API returned a 403 (Forbidden), User has been suspended.\n"
     ]
    },
    {
     "name": "stderr",
     "output_type": "stream",
     "text": [
      " 23%|██▎       | 141/607 [02:04<06:29,  1.20it/s]"
     ]
    },
    {
     "name": "stdout",
     "output_type": "stream",
     "text": [
      "Twitter API returned a 404 (Not Found), No status found with that ID.\n"
     ]
    },
    {
     "name": "stderr",
     "output_type": "stream",
     "text": [
      " 25%|██▍       | 150/607 [02:12<06:28,  1.18it/s]"
     ]
    },
    {
     "name": "stdout",
     "output_type": "stream",
     "text": [
      "delay:  0.6801972502917912\n"
     ]
    },
    {
     "name": "stderr",
     "output_type": "stream",
     "text": [
      " 33%|███▎      | 200/607 [02:54<05:45,  1.18it/s]"
     ]
    },
    {
     "name": "stdout",
     "output_type": "stream",
     "text": [
      "delay:  0.6672578927512481\n"
     ]
    },
    {
     "name": "stderr",
     "output_type": "stream",
     "text": [
      " 40%|███▉      | 241/607 [03:29<05:27,  1.12it/s]"
     ]
    },
    {
     "name": "stdout",
     "output_type": "stream",
     "text": [
      "Twitter API returned a 403 (Forbidden), User has been suspended.\n"
     ]
    },
    {
     "name": "stderr",
     "output_type": "stream",
     "text": [
      " 41%|████      | 249/607 [03:36<05:23,  1.11it/s]"
     ]
    },
    {
     "name": "stdout",
     "output_type": "stream",
     "text": [
      "Twitter API returned a 404 (Not Found), Sorry, that page does not exist.\n"
     ]
    },
    {
     "name": "stderr",
     "output_type": "stream",
     "text": [
      "\r",
      " 41%|████      | 250/607 [03:37<05:14,  1.13it/s]"
     ]
    },
    {
     "name": "stdout",
     "output_type": "stream",
     "text": [
      "delay:  0.6508365531225462\n"
     ]
    },
    {
     "name": "stderr",
     "output_type": "stream",
     "text": [
      " 44%|████▍     | 269/607 [03:53<04:33,  1.24it/s]"
     ]
    },
    {
     "name": "stdout",
     "output_type": "stream",
     "text": [
      "Twitter API returned a 404 (Not Found), Sorry, that page does not exist.\n"
     ]
    },
    {
     "name": "stderr",
     "output_type": "stream",
     "text": [
      " 45%|████▌     | 276/607 [03:59<04:34,  1.21it/s]"
     ]
    },
    {
     "name": "stdout",
     "output_type": "stream",
     "text": [
      "Twitter API returned a 403 (Forbidden), User has been suspended.\n"
     ]
    },
    {
     "name": "stderr",
     "output_type": "stream",
     "text": [
      " 46%|████▋     | 281/607 [04:03<04:27,  1.22it/s]"
     ]
    },
    {
     "name": "stdout",
     "output_type": "stream",
     "text": [
      "Twitter API returned a 404 (Not Found), No status found with that ID.\n"
     ]
    },
    {
     "name": "stderr",
     "output_type": "stream",
     "text": [
      " 49%|████▉     | 300/607 [04:18<04:08,  1.23it/s]"
     ]
    },
    {
     "name": "stdout",
     "output_type": "stream",
     "text": [
      "delay:  0.6347334613659286\n"
     ]
    },
    {
     "name": "stderr",
     "output_type": "stream",
     "text": [
      " 51%|█████     | 307/607 [04:24<04:05,  1.22it/s]"
     ]
    },
    {
     "name": "stdout",
     "output_type": "stream",
     "text": [
      "Twitter API returned a 403 (Forbidden), User has been suspended.\n"
     ]
    },
    {
     "name": "stderr",
     "output_type": "stream",
     "text": [
      " 58%|█████▊    | 350/607 [04:59<03:28,  1.23it/s]"
     ]
    },
    {
     "name": "stdout",
     "output_type": "stream",
     "text": [
      "delay:  0.616777867805667\n"
     ]
    },
    {
     "name": "stderr",
     "output_type": "stream",
     "text": [
      " 61%|██████    | 370/607 [05:15<03:10,  1.24it/s]"
     ]
    },
    {
     "name": "stdout",
     "output_type": "stream",
     "text": [
      "Twitter API returned a 403 (Forbidden), User has been suspended.\n"
     ]
    },
    {
     "name": "stderr",
     "output_type": "stream",
     "text": [
      " 66%|██████▌   | 400/607 [05:38<02:43,  1.27it/s]"
     ]
    },
    {
     "name": "stdout",
     "output_type": "stream",
     "text": [
      "delay:  0.5972611030302436\n"
     ]
    },
    {
     "name": "stderr",
     "output_type": "stream",
     "text": [
      " 74%|███████▍  | 450/607 [06:17<02:03,  1.27it/s]"
     ]
    },
    {
     "name": "stdout",
     "output_type": "stream",
     "text": [
      "delay:  0.5747430342800763\n"
     ]
    },
    {
     "name": "stderr",
     "output_type": "stream",
     "text": [
      " 80%|████████  | 487/607 [06:46<01:27,  1.37it/s]"
     ]
    },
    {
     "name": "stdout",
     "output_type": "stream",
     "text": [
      "Twitter API returned a 404 (Not Found), No status found with that ID.\n"
     ]
    },
    {
     "name": "stderr",
     "output_type": "stream",
     "text": [
      " 82%|████████▏ | 500/607 [06:56<01:22,  1.30it/s]"
     ]
    },
    {
     "name": "stdout",
     "output_type": "stream",
     "text": [
      "delay:  0.5465650161107382\n"
     ]
    },
    {
     "name": "stderr",
     "output_type": "stream",
     "text": [
      " 83%|████████▎ | 504/607 [06:59<01:17,  1.33it/s]"
     ]
    },
    {
     "name": "stdout",
     "output_type": "stream",
     "text": [
      "Twitter API returned a 403 (Forbidden), User has been suspended.\n"
     ]
    },
    {
     "name": "stderr",
     "output_type": "stream",
     "text": [
      " 86%|████████▌ | 523/607 [07:12<00:59,  1.41it/s]"
     ]
    },
    {
     "name": "stdout",
     "output_type": "stream",
     "text": [
      "Twitter API returned a 404 (Not Found), No status found with that ID.\n"
     ]
    },
    {
     "name": "stderr",
     "output_type": "stream",
     "text": [
      " 89%|████████▊ | 538/607 [07:23<00:48,  1.42it/s]"
     ]
    },
    {
     "name": "stdout",
     "output_type": "stream",
     "text": [
      "Twitter API returned a 404 (Not Found), Sorry, that page does not exist.\n"
     ]
    },
    {
     "name": "stderr",
     "output_type": "stream",
     "text": [
      " 91%|█████████ | 550/607 [07:31<00:40,  1.42it/s]"
     ]
    },
    {
     "name": "stdout",
     "output_type": "stream",
     "text": [
      "delay:  0.5176923209673738\n"
     ]
    },
    {
     "name": "stderr",
     "output_type": "stream",
     "text": [
      " 98%|█████████▊| 592/607 [08:00<00:10,  1.45it/s]"
     ]
    },
    {
     "name": "stdout",
     "output_type": "stream",
     "text": [
      "Twitter API returned a 404 (Not Found), No status found with that ID.\n"
     ]
    },
    {
     "name": "stderr",
     "output_type": "stream",
     "text": [
      " 99%|█████████▉| 600/607 [08:06<00:04,  1.44it/s]"
     ]
    },
    {
     "name": "stdout",
     "output_type": "stream",
     "text": [
      "delay:  0.4818970142317212\n"
     ]
    },
    {
     "name": "stderr",
     "output_type": "stream",
     "text": [
      "100%|██████████| 607/607 [08:11<00:00,  1.24it/s]"
     ]
    },
    {
     "name": "stdout",
     "output_type": "stream",
     "text": [
      "20/607 tweets not extracted.\n",
      "location extraction: 587 failed, 0 successful. \n"
     ]
    },
    {
     "name": "stderr",
     "output_type": "stream",
     "text": [
      "\n"
     ]
    }
   ],
   "source": [
    "# !pip install tqdm\n",
    "\n",
    "# request limit: 900 requestis/15 mins.\n",
    "# so if you make 1 request per second, everything will be fine. (15*60 secs = 900secs)\n",
    "# but it seems to be a rolling window, so you don't have to wait for a full reset, when limit is reached. \n",
    "# adjust sleeping time as required. \n",
    "# DONE dynamische Berechnung der time-limits um ensprechend anfragefrequenz automatisch regeln\n",
    "\n",
    "import time\n",
    "\n",
    "def calc_delay_to_not_run_into_rate_limit():\n",
    "    # good if you make requests over long time (>15 mins). if not, shorter delay times then returned here would be ok\n",
    "    # calculation based on the 'python_tweets.show_status(id)'-method. if we use a batch-request-method other time limits apply.\n",
    "    python_tweets.get_application_rate_limit_status(resources=\"statuses\")\n",
    "    resource = python_tweets.get_application_rate_limit_status() # if you get a permession denied error here, you have to change your \"project settings\" here (developer.twitter.com), to \"Read, Write, and Direct Messages\" and regenerate all keys. TODO add to readme\n",
    "    resource = resource[\"resources\"][\"statuses\"][\"/statuses/show/:id\"] \n",
    "    # -> {'limit': 900, 'remaining': 737, 'reset': 1607445919}\n",
    "    should_sleep = (resource[\"reset\"] - time.time()) / resource[\"remaining\"]\n",
    "    return should_sleep # seconds to sleep before next request\n",
    "\n",
    "\n",
    "import pandas as pd\n",
    "tweets_csv =  pd.read_csv(\"data/GeoCOV19TweetsDataset/april1_april2.csv\")\n",
    "tweets_csv.columns = [\"ID\",\"Sentiment\"] #add column names\n",
    "del tweets_csv[\"Sentiment\"] # del sentiment column\n",
    "display (tweets_csv.head()) # display statt print -> print in schön\n",
    "#print (len(tweets_csv))\n",
    "\n",
    "from tqdm import tqdm\n",
    "\n",
    "#iterate over csv files and extract tweet to get location\n",
    "failed = 0; success = 0; tweet_not_found = 0\n",
    "for i in tqdm(range(len(tweets_csv))): # ca 600 entries. shorten to len(tweets_csv))-500) for faster execution time\n",
    "    if i%50 == 0:\n",
    "        delay = calc_delay_to_not_run_into_rate_limit()\n",
    "        print (\"delay: \",delay)\n",
    "    time.sleep(delay)            # set to e.g 0.2 if you don't execute this too too often. will be faster and ok. \n",
    "    ID = int(tweets_csv['ID'].values[i])\n",
    "    try:\n",
    "        tweet= python_tweets.show_status(id=ID)\n",
    "    except Exception as e: \n",
    "        tweet_not_found += 1\n",
    "        print (e)\n",
    "        continue\n",
    "    try:\n",
    "        print (tweet[\"extended_entities\"][\"media\"][0][\"additional_media_info\"][\"source_user\"]['location'])\n",
    "    except:\n",
    "        failed += 1\n",
    "        continue\n",
    "    success += 1\n",
    "print (f\"{tweet_not_found}/{len(tweets_csv)} tweets not extracted.\\nlocation extraction of extracted tweets: {failed} failed, {success} successful. \")\n"
   ]
  },
  {
   "cell_type": "code",
   "execution_count": null,
   "metadata": {},
   "outputs": [],
   "source": [
    "# Create our query\n",
    "query = {'q': 'corona',\n",
    "        'count': 10,\n",
    "        'lang': 'en'\n",
    "        }\n",
    "\n",
    "\n",
    "from geopy.geocoders import Nominatim\n",
    "geolocator = Nominatim(user_agent=\"sample app\")\n",
    "\n",
    "# Search tweets\n",
    "dict_ = {'date': [], 'text': [], 'location': []}\n",
    "for status in python_tweets.search(**query)['statuses']:\n",
    "    \n",
    "    try: \n",
    "        if status[\"user\"][\"location\"] != \"\":\n",
    "\n",
    "            dict_['date'].append(status['created_at'])\n",
    "            dict_['text'].append(status['text'])\n",
    "            dict_['location'].append(status[\"user\"][\"location\"])\n",
    "    except: \n",
    "        pass\n",
    "\n",
    "\n",
    "\n",
    "# Structure data in a pandas DataFrame for easier manipulation\n",
    "df = pd.DataFrame(dict_)\n",
    "df.sort_values(by='location', inplace=True, ascending=False)\n",
    "df.head(5)\n",
    "\n",
    "for value in dict_['text']:\n",
    "    print(value)\n",
    "    print(\"\")\n"
   ]
  },
  {
   "cell_type": "code",
   "execution_count": null,
   "metadata": {},
   "outputs": [],
   "source": []
  }
 ],
 "metadata": {
  "kernelspec": {
   "display_name": "Python 3",
   "language": "python",
   "name": "python3"
  },
  "language_info": {
   "codemirror_mode": {
    "name": "ipython",
    "version": 3
   },
   "file_extension": ".py",
   "mimetype": "text/x-python",
   "name": "python",
   "nbconvert_exporter": "python",
   "pygments_lexer": "ipython3",
   "version": "3.7.5"
  }
 },
 "nbformat": 4,
 "nbformat_minor": 4
}
