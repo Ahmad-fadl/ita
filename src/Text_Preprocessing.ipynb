{
 "cells": [
  {
   "cell_type": "code",
   "execution_count": 1,
   "metadata": {},
   "outputs": [],
   "source": [
    "# Remove Emojis Method\n",
    "def remove_emojis(data):\n",
    "    try:\n",
    "        emoj = re.compile(\"[\"\n",
    "            u\"\\U0001F600-\\U0001F64F\"  \n",
    "            u\"\\U0001F300-\\U0001F5FF\"  \n",
    "            u\"\\U0001F680-\\U0001F6FF\" \n",
    "            u\"\\U0001F1E0-\\U0001F1FF\"  \n",
    "            u\"\\U00002500-\\U00002BEF\"  \n",
    "            u\"\\U00002702-\\U000027B0\"\n",
    "            u\"\\U00002702-\\U000027B0\"\n",
    "            u\"\\U000024C2-\\U0001F251\"\n",
    "            u\"\\U0001f926-\\U0001f937\"\n",
    "            u\"\\U00010000-\\U0010ffff\"\n",
    "            u\"\\u2640-\\u2642\" \n",
    "            u\"\\u2600-\\u2B55\"\n",
    "            u\"\\u200d\"\n",
    "            u\"\\u23cf\"\n",
    "            u\"\\u23e9\"\n",
    "            u\"\\u231a\"\n",
    "            u\"\\ufe0f\"  \n",
    "            u\"\\u3030\"\n",
    "                          \"]+\", re.UNICODE)\n",
    "        return re.sub(emoj, '', data)\n",
    "    except:\n",
    "        return data\n",
    "\n",
    "# Remove URLS Method\n",
    "def remove_URLS(data):\n",
    "    try:\n",
    "        return str(re.sub(r'http\\S+', '', data))\n",
    "    except:\n",
    "        return str(data)"
   ]
  },
  {
   "cell_type": "code",
   "execution_count": 3,
   "metadata": {},
   "outputs": [
    {
     "name": "stdout",
     "output_type": "stream",
     "text": [
      "\n",
      "File 1 contains: 279 Files\n",
      "\n"
     ]
    }
   ],
   "source": [
    "import pandas as pd\n",
    "import os\n",
    "from tqdm import tqdm\n",
    "import pandas as pd\n",
    "\n",
    "count = 0\n",
    "directory = \"data/Tweets\"\n",
    "\n",
    "# For each file/day\n",
    "for entry in os.scandir(directory):\n",
    "    count+=1\n",
    "    \n",
    "    # Load csv file containing the tweet ID's\n",
    "    Twitter_Tweets =  pd.read_csv(entry.path)\n",
    "\n",
    "    # Preprocessing: Remove all emojis from the raw text\n",
    "    Twitter_Tweets['TEXT_RAW']= pd.DataFrame(Twitter_Tweets['TEXT_RAW'].apply(remove_emojis))\n",
    "    # Preprocessing: Remove all URLs from the raw text    \n",
    "    Twitter_Tweets['TEXT_RAW']= pd.DataFrame(Twitter_Tweets['TEXT_RAW'].apply(remove_URLS))\n",
    "    #.........\n",
    "    \n",
    "    # Save DF to csv file\n",
    "    Twitter_Tweets.to_csv (\"data/Tweets2_Preprocessed/\" + os.path.basename(entry.path), index = False, header=True)\n",
    "    print(\"\")\n",
    "    print(\"File \" + str(count) + \" contains: \" + str(len(Twitter_Tweets)) + \" Files\") \n",
    "    print(\"\")  \n"
   ]
  }
 ],
 "metadata": {
  "kernelspec": {
   "display_name": "Python 3",
   "language": "python",
   "name": "python3"
  },
  "language_info": {
   "codemirror_mode": {
    "name": "ipython",
    "version": 3
   },
   "file_extension": ".py",
   "mimetype": "text/x-python",
   "name": "python",
   "nbconvert_exporter": "python",
   "pygments_lexer": "ipython3",
   "version": "3.8.3"
  }
 },
 "nbformat": 4,
 "nbformat_minor": 4
}
